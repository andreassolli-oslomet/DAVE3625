{
 "cells": [
  {
   "cell_type": "markdown",
   "id": "25b4456c",
   "metadata": {},
   "source": [
    "# DAVE3625-1 Assignment 1\n",
    "\n",
    "Assignment done by:\n",
    "* Andreas Sandvik Solli (s364747)\n",
    "* Christoffer Christensen Naug (s364714)\n",
    "* Eirik JørgensenEirik Jørgensen (s358857)\n",
    "\n",
    "Most of the code has been retrieved from [Lab 3](https://github.com/atikagondal/Lab-2023-DAVE3625/tree/main/Lab3), with some additional code added or changed to fulfill the tasks. Most of the task 2 code and comments have been left out due to issues with packages, specifically Laundromat."
   ]
  },
  {
   "cell_type": "markdown",
   "id": "085e5d9d",
   "metadata": {},
   "source": [
    "## Task 1 - Generating Fake Data"
   ]
  },
  {
   "cell_type": "markdown",
   "id": "158c56cb",
   "metadata": {},
   "source": [
    "Import all neccesary packages and modules."
   ]
  },
  {
   "cell_type": "code",
   "execution_count": 63,
   "id": "da92a4cf",
   "metadata": {},
   "outputs": [],
   "source": [
    "from faker import Faker\n",
    "import pandas as pd\n",
    "#from laundromat.spacy.spacy_model import SpacyModel\n",
    "from faker.providers.credit_card import Provider as CreditCardProvider #Add creditcards to faker"
   ]
  },
  {
   "cell_type": "markdown",
   "id": "9bb5df5c",
   "metadata": {},
   "source": [
    "Load faker and set the locale to be Norwegian"
   ]
  },
  {
   "cell_type": "code",
   "execution_count": 64,
   "id": "5606dd2b",
   "metadata": {},
   "outputs": [],
   "source": [
    "fake = Faker(['no_NO'])"
   ]
  },
  {
   "cell_type": "markdown",
   "id": "ef4bdf78",
   "metadata": {},
   "source": [
    "Here we create the dataframe from the package Pandas and define the columns that will be used for storing data later."
   ]
  },
  {
   "cell_type": "code",
   "execution_count": 65,
   "id": "588a7cd6",
   "metadata": {},
   "outputs": [],
   "source": [
    "df = pd.DataFrame(columns=['Navn','Adresse','PersonNr', 'CreditCard', 'ipv4']) "
   ]
  },
  {
   "cell_type": "markdown",
   "id": "3cf37329",
   "metadata": {},
   "source": [
    "The for loop below creates 100 fake identities and inserts them into the dataframe previously specified."
   ]
  },
  {
   "cell_type": "code",
   "execution_count": 66,
   "id": "465d418d",
   "metadata": {},
   "outputs": [],
   "source": [
    "for i in range(100):\n",
    "    row = fake.name(),fake.address(),fake.ssn(),fake.credit_card_number(),fake.ipv4()\n",
    "    df.loc[i]=row"
   ]
  },
  {
   "cell_type": "markdown",
   "id": "f431ad04",
   "metadata": {},
   "source": [
    "Using `df.head(10)` we print out 10 lines of the dataframe just to see that the data has been generated and that the data is added to the corresponding columns."
   ]
  },
  {
   "cell_type": "code",
   "execution_count": 67,
   "id": "fa0aa02a",
   "metadata": {},
   "outputs": [
    {
     "data": {
      "text/html": [
       "<div>\n",
       "<style scoped>\n",
       "    .dataframe tbody tr th:only-of-type {\n",
       "        vertical-align: middle;\n",
       "    }\n",
       "\n",
       "    .dataframe tbody tr th {\n",
       "        vertical-align: top;\n",
       "    }\n",
       "\n",
       "    .dataframe thead th {\n",
       "        text-align: right;\n",
       "    }\n",
       "</style>\n",
       "<table border=\"1\" class=\"dataframe\">\n",
       "  <thead>\n",
       "    <tr style=\"text-align: right;\">\n",
       "      <th></th>\n",
       "      <th>Navn</th>\n",
       "      <th>Adresse</th>\n",
       "      <th>PersonNr</th>\n",
       "      <th>CreditCard</th>\n",
       "      <th>ipv4</th>\n",
       "    </tr>\n",
       "  </thead>\n",
       "  <tbody>\n",
       "    <tr>\n",
       "      <th>0</th>\n",
       "      <td>Vilde Sørensen</td>\n",
       "      <td>Brekkehaugen 22, 8777 Solveighavn</td>\n",
       "      <td>04117120533</td>\n",
       "      <td>4838695247259036</td>\n",
       "      <td>108.194.50.49</td>\n",
       "    </tr>\n",
       "    <tr>\n",
       "      <th>1</th>\n",
       "      <td>Bjørg-Hege Christensen</td>\n",
       "      <td>Hagenmarka 3, 7924 Jensen</td>\n",
       "      <td>22107830697</td>\n",
       "      <td>4898218339733334</td>\n",
       "      <td>156.85.99.84</td>\n",
       "    </tr>\n",
       "    <tr>\n",
       "      <th>2</th>\n",
       "      <td>Tom-Magne Ali</td>\n",
       "      <td>Sivertsenmyra 264, 9477 Ahmed</td>\n",
       "      <td>12096522302</td>\n",
       "      <td>180085492051431</td>\n",
       "      <td>74.45.91.1</td>\n",
       "    </tr>\n",
       "    <tr>\n",
       "      <th>3</th>\n",
       "      <td>Sondre Helland</td>\n",
       "      <td>Andreassenskrenten 73, 6716 Nguyen</td>\n",
       "      <td>24018931369</td>\n",
       "      <td>213167414821272</td>\n",
       "      <td>188.77.140.214</td>\n",
       "    </tr>\n",
       "    <tr>\n",
       "      <th>4</th>\n",
       "      <td>Magnus Lund</td>\n",
       "      <td>Kristensengrenda 5B, 8208 Tomøy</td>\n",
       "      <td>08017545427</td>\n",
       "      <td>30479106635220</td>\n",
       "      <td>134.239.165.60</td>\n",
       "    </tr>\n",
       "    <tr>\n",
       "      <th>5</th>\n",
       "      <td>Kristin Bøe</td>\n",
       "      <td>Eriksenåsen 63, 7892 Tobiashamn</td>\n",
       "      <td>15020476920</td>\n",
       "      <td>582097997222</td>\n",
       "      <td>101.110.89.190</td>\n",
       "    </tr>\n",
       "    <tr>\n",
       "      <th>6</th>\n",
       "      <td>Elise-Linn Sæther</td>\n",
       "      <td>Dahlkroken 6, 4932 Dahl</td>\n",
       "      <td>09113732323</td>\n",
       "      <td>379568830969514</td>\n",
       "      <td>191.183.6.96</td>\n",
       "    </tr>\n",
       "    <tr>\n",
       "      <th>7</th>\n",
       "      <td>Ragnhild Ødegård</td>\n",
       "      <td>Gulbrandsenstubben 87A, 1142 Tonefjord</td>\n",
       "      <td>28055643220</td>\n",
       "      <td>213152113331419</td>\n",
       "      <td>113.66.77.232</td>\n",
       "    </tr>\n",
       "    <tr>\n",
       "      <th>8</th>\n",
       "      <td>Eirik Evensen</td>\n",
       "      <td>Arnesengrenda 408, 4725 Haugland</td>\n",
       "      <td>28026823023</td>\n",
       "      <td>6011549612614859</td>\n",
       "      <td>91.113.229.103</td>\n",
       "    </tr>\n",
       "    <tr>\n",
       "      <th>9</th>\n",
       "      <td>Bente-Karoline Hagen</td>\n",
       "      <td>Thorsenbakken 36H, 0809 Thorsen</td>\n",
       "      <td>09127048638</td>\n",
       "      <td>3559415079782222</td>\n",
       "      <td>223.128.224.75</td>\n",
       "    </tr>\n",
       "  </tbody>\n",
       "</table>\n",
       "</div>"
      ],
      "text/plain": [
       "                     Navn                                 Adresse  \\\n",
       "0          Vilde Sørensen       Brekkehaugen 22, 8777 Solveighavn   \n",
       "1  Bjørg-Hege Christensen               Hagenmarka 3, 7924 Jensen   \n",
       "2           Tom-Magne Ali           Sivertsenmyra 264, 9477 Ahmed   \n",
       "3          Sondre Helland      Andreassenskrenten 73, 6716 Nguyen   \n",
       "4             Magnus Lund         Kristensengrenda 5B, 8208 Tomøy   \n",
       "5             Kristin Bøe         Eriksenåsen 63, 7892 Tobiashamn   \n",
       "6       Elise-Linn Sæther                 Dahlkroken 6, 4932 Dahl   \n",
       "7        Ragnhild Ødegård  Gulbrandsenstubben 87A, 1142 Tonefjord   \n",
       "8           Eirik Evensen        Arnesengrenda 408, 4725 Haugland   \n",
       "9    Bente-Karoline Hagen         Thorsenbakken 36H, 0809 Thorsen   \n",
       "\n",
       "      PersonNr        CreditCard            ipv4  \n",
       "0  04117120533  4838695247259036   108.194.50.49  \n",
       "1  22107830697  4898218339733334    156.85.99.84  \n",
       "2  12096522302   180085492051431      74.45.91.1  \n",
       "3  24018931369   213167414821272  188.77.140.214  \n",
       "4  08017545427    30479106635220  134.239.165.60  \n",
       "5  15020476920      582097997222  101.110.89.190  \n",
       "6  09113732323   379568830969514    191.183.6.96  \n",
       "7  28055643220   213152113331419   113.66.77.232  \n",
       "8  28026823023  6011549612614859  91.113.229.103  \n",
       "9  09127048638  3559415079782222  223.128.224.75  "
      ]
     },
     "execution_count": 67,
     "metadata": {},
     "output_type": "execute_result"
    }
   ],
   "source": [
    "df.head(10)"
   ]
  },
  {
   "cell_type": "markdown",
   "id": "0affe329",
   "metadata": {},
   "source": [
    "## Task 2 - Anonymization"
   ]
  },
  {
   "cell_type": "markdown",
   "id": "a196018a",
   "metadata": {},
   "source": [
    "Firstly a new array is generated called `textArray`. Then using a for loop we go through the entire dataframe and create a string using the different columns for each of the row. In this case we use the name, address, SSN and credit card to make a somewhat believable string that could perhaps be sent in an email or a chat-system."
   ]
  },
  {
   "cell_type": "code",
   "execution_count": 68,
   "id": "f8a5455e",
   "metadata": {},
   "outputs": [],
   "source": [
    "textArray = [] #Create a empty array\n",
    "# Do a for loop, and assign values to name and adress\n",
    "for index, row in df.iterrows():\n",
    "    name = row[\"Navn\"] \n",
    "    adress = row[\"Adresse\"]\n",
    "    ssn = row[\"PersonNr\"]\n",
    "    cc = row[\"CreditCard\"]\n",
    "    #Using f string we can now create a new string with the values, and\n",
    "    #append (add) that string to the text array\n",
    "    textArray.append(f'Hi, my name is {name}. I wonder if you deliver to {adress}. My credit card nr is {cc} and my ssn is {ssn}')"
   ]
  },
  {
   "cell_type": "markdown",
   "id": "17815ffa",
   "metadata": {},
   "source": [
    "## Task 3 - Time series"
   ]
  },
  {
   "cell_type": "markdown",
   "id": "268e9850",
   "metadata": {},
   "source": [
    "Import the required libraries and packages"
   ]
  },
  {
   "cell_type": "code",
   "execution_count": 69,
   "id": "640ef4db",
   "metadata": {},
   "outputs": [],
   "source": [
    "%matplotlib inline\n",
    "import pandas as pd\n",
    "import numpy as np\n",
    "import matplotlib.pyplot as plt\n",
    "import datetime"
   ]
  },
  {
   "cell_type": "markdown",
   "id": "4c791baf",
   "metadata": {},
   "source": [
    "Define the path from where the flight data is imported. In this case the file is stored in the `data` subfolder with the name `flight.csv`."
   ]
  },
  {
   "cell_type": "code",
   "execution_count": 70,
   "id": "2741fb63",
   "metadata": {},
   "outputs": [],
   "source": [
    "url = \"data/flight.csv\""
   ]
  },
  {
   "cell_type": "markdown",
   "id": "e4056797",
   "metadata": {},
   "source": [
    "Create a dataframe and use the pandas package to read the csv file from the previously defined path."
   ]
  },
  {
   "cell_type": "code",
   "execution_count": 71,
   "id": "7d5487b6",
   "metadata": {},
   "outputs": [],
   "source": [
    "df = pd.read_csv(url)"
   ]
  },
  {
   "cell_type": "markdown",
   "id": "edb23761",
   "metadata": {},
   "source": [
    "Using the head method which will print out a neatly formatted table using rows and columns. The first column is unnamed as the name is not defined in the CSV file unlike the other columns."
   ]
  },
  {
   "cell_type": "code",
   "execution_count": 72,
   "id": "a552e664",
   "metadata": {},
   "outputs": [
    {
     "data": {
      "text/html": [
       "<div>\n",
       "<style scoped>\n",
       "    .dataframe tbody tr th:only-of-type {\n",
       "        vertical-align: middle;\n",
       "    }\n",
       "\n",
       "    .dataframe tbody tr th {\n",
       "        vertical-align: top;\n",
       "    }\n",
       "\n",
       "    .dataframe thead th {\n",
       "        text-align: right;\n",
       "    }\n",
       "</style>\n",
       "<table border=\"1\" class=\"dataframe\">\n",
       "  <thead>\n",
       "    <tr style=\"text-align: right;\">\n",
       "      <th></th>\n",
       "      <th>Unnamed: 0</th>\n",
       "      <th>datetime_val</th>\n",
       "      <th>dep_time</th>\n",
       "      <th>arr_time</th>\n",
       "      <th>sched_arr_time</th>\n",
       "      <th>flight</th>\n",
       "      <th>origin</th>\n",
       "      <th>dest</th>\n",
       "    </tr>\n",
       "  </thead>\n",
       "  <tbody>\n",
       "    <tr>\n",
       "      <th>0</th>\n",
       "      <td>0</td>\n",
       "      <td>2013-1-1 05:40:00</td>\n",
       "      <td>2013-1-1 05:42:00</td>\n",
       "      <td>2013-1-1 09:23:00</td>\n",
       "      <td>2013-1-1 08:50:00</td>\n",
       "      <td>1141</td>\n",
       "      <td>JFK</td>\n",
       "      <td>MIA</td>\n",
       "    </tr>\n",
       "    <tr>\n",
       "      <th>1</th>\n",
       "      <td>1</td>\n",
       "      <td>2013-1-1 06:00:00</td>\n",
       "      <td>2013-1-1 05:54:00</td>\n",
       "      <td>2013-1-1 08:12:00</td>\n",
       "      <td>2013-1-1 08:37:00</td>\n",
       "      <td>461</td>\n",
       "      <td>LGA</td>\n",
       "      <td>ATL</td>\n",
       "    </tr>\n",
       "    <tr>\n",
       "      <th>2</th>\n",
       "      <td>2</td>\n",
       "      <td>2013-1-1 05:58:00</td>\n",
       "      <td>2013-1-1 05:54:00</td>\n",
       "      <td>2013-1-1 07:40:00</td>\n",
       "      <td>2013-1-1 07:28:00</td>\n",
       "      <td>1696</td>\n",
       "      <td>EWR</td>\n",
       "      <td>ORD</td>\n",
       "    </tr>\n",
       "    <tr>\n",
       "      <th>3</th>\n",
       "      <td>3</td>\n",
       "      <td>2013-1-1 06:00:00</td>\n",
       "      <td>2013-1-1 05:55:00</td>\n",
       "      <td>2013-1-1 09:13:00</td>\n",
       "      <td>2013-1-1 08:54:00</td>\n",
       "      <td>507</td>\n",
       "      <td>EWR</td>\n",
       "      <td>FLL</td>\n",
       "    </tr>\n",
       "    <tr>\n",
       "      <th>4</th>\n",
       "      <td>4</td>\n",
       "      <td>2013-1-1 06:00:00</td>\n",
       "      <td>2013-1-1 05:57:00</td>\n",
       "      <td>2013-1-1 08:38:00</td>\n",
       "      <td>2013-1-1 08:46:00</td>\n",
       "      <td>79</td>\n",
       "      <td>JFK</td>\n",
       "      <td>MCO</td>\n",
       "    </tr>\n",
       "  </tbody>\n",
       "</table>\n",
       "</div>"
      ],
      "text/plain": [
       "   Unnamed: 0       datetime_val           dep_time           arr_time  \\\n",
       "0           0  2013-1-1 05:40:00  2013-1-1 05:42:00  2013-1-1 09:23:00   \n",
       "1           1  2013-1-1 06:00:00  2013-1-1 05:54:00  2013-1-1 08:12:00   \n",
       "2           2  2013-1-1 05:58:00  2013-1-1 05:54:00  2013-1-1 07:40:00   \n",
       "3           3  2013-1-1 06:00:00  2013-1-1 05:55:00  2013-1-1 09:13:00   \n",
       "4           4  2013-1-1 06:00:00  2013-1-1 05:57:00  2013-1-1 08:38:00   \n",
       "\n",
       "      sched_arr_time  flight origin dest  \n",
       "0  2013-1-1 08:50:00    1141    JFK  MIA  \n",
       "1  2013-1-1 08:37:00     461    LGA  ATL  \n",
       "2  2013-1-1 07:28:00    1696    EWR  ORD  \n",
       "3  2013-1-1 08:54:00     507    EWR  FLL  \n",
       "4  2013-1-1 08:46:00      79    JFK  MCO  "
      ]
     },
     "execution_count": 72,
     "metadata": {},
     "output_type": "execute_result"
    }
   ],
   "source": [
    "df.head()"
   ]
  },
  {
   "cell_type": "code",
   "execution_count": null,
   "id": "be807196",
   "metadata": {},
   "outputs": [],
   "source": []
  },
  {
   "cell_type": "markdown",
   "id": "81a7afad",
   "metadata": {},
   "source": [
    "The code below will use pandas to convert the data from the different series into a different type, in this case a datetime type. If the value can not be converted, it will simply use the method defined in `error`, in this case `coerce` to set it as NaT, also known as a missing value."
   ]
  },
  {
   "cell_type": "code",
   "execution_count": 73,
   "id": "cdf02624",
   "metadata": {},
   "outputs": [],
   "source": [
    "df['datetime_val'] = pd.to_datetime(df['datetime_val'], errors='coerce') \n",
    "df['dep_time'] = pd.to_datetime(df['dep_time'], errors='coerce')\n",
    "df['arr_time'] = pd.to_datetime(df['arr_time'], errors='coerce')\n",
    "df['sched_arr_time'] = pd.to_datetime(df['sched_arr_time'], errors='coerce')\n",
    "#or use errors='coerce' to put a NaT value (NaT = dummy var for missing value)"
   ]
  },
  {
   "cell_type": "markdown",
   "id": "dfa42a0c",
   "metadata": {},
   "source": [
    "To start of the code below will iterate throw the dataframe using the iterrows method that iterates through all the rows, similar to how a for loop such as\n",
    "\n",
    "```python\n",
    "for num in range(100)\n",
    "```\n",
    "would go from 0-99. \n",
    "\n",
    "For each row we check if the arrival time is less then the depature time and if so add an extra day to prevent. The same is done for the scheduled arrival time."
   ]
  },
  {
   "cell_type": "code",
   "execution_count": 74,
   "id": "9a755836",
   "metadata": {},
   "outputs": [],
   "source": [
    "for index, row in df.iterrows():\n",
    "    #if air_time is negative\n",
    "    if (row['arr_time']<row['dep_time']):\n",
    "        df.loc[index, 'arr_time'] = (row['arr_time'])+ datetime.timedelta(days=1)\n",
    "    if (row['sched_arr_time']<row['dep_time']):\n",
    "        df.loc[index, 'sched_arr_time'] = (row['sched_arr_time'])+ datetime.timedelta(days=1)\n",
    "        "
   ]
  },
  {
   "cell_type": "markdown",
   "id": "3fea4418",
   "metadata": {},
   "source": [
    "Below two things are calculated, the air time and the delay of the flight.\n",
    "\n",
    "The air time is calculated by subtracting the arrival time from the departure time and add it to a new column in the dataframe called `air_time`.\n",
    "The delay of the flight is calculated by subtracting the arrival time from the scheduled arrival time and insert into a new column called `delay`."
   ]
  },
  {
   "cell_type": "code",
   "execution_count": 75,
   "id": "8c26389a",
   "metadata": {},
   "outputs": [],
   "source": [
    "df['air_time'] = df[\"arr_time\"]-df[\"dep_time\"]\n",
    "df['delay'] = df[\"arr_time\"]-df[\"sched_arr_time\"]"
   ]
  },
  {
   "cell_type": "markdown",
   "id": "5e3193fa",
   "metadata": {},
   "source": [
    "Using `df` simply prints the table out to the console."
   ]
  },
  {
   "cell_type": "code",
   "execution_count": 76,
   "id": "7df3eeeb",
   "metadata": {},
   "outputs": [
    {
     "data": {
      "text/html": [
       "<div>\n",
       "<style scoped>\n",
       "    .dataframe tbody tr th:only-of-type {\n",
       "        vertical-align: middle;\n",
       "    }\n",
       "\n",
       "    .dataframe tbody tr th {\n",
       "        vertical-align: top;\n",
       "    }\n",
       "\n",
       "    .dataframe thead th {\n",
       "        text-align: right;\n",
       "    }\n",
       "</style>\n",
       "<table border=\"1\" class=\"dataframe\">\n",
       "  <thead>\n",
       "    <tr style=\"text-align: right;\">\n",
       "      <th></th>\n",
       "      <th>Unnamed: 0</th>\n",
       "      <th>datetime_val</th>\n",
       "      <th>dep_time</th>\n",
       "      <th>arr_time</th>\n",
       "      <th>sched_arr_time</th>\n",
       "      <th>flight</th>\n",
       "      <th>origin</th>\n",
       "      <th>dest</th>\n",
       "      <th>air_time</th>\n",
       "      <th>delay</th>\n",
       "    </tr>\n",
       "  </thead>\n",
       "  <tbody>\n",
       "    <tr>\n",
       "      <th>0</th>\n",
       "      <td>0</td>\n",
       "      <td>2013-01-01 05:40:00</td>\n",
       "      <td>2013-01-01 05:42:00</td>\n",
       "      <td>2013-01-01 09:23:00</td>\n",
       "      <td>2013-01-01 08:50:00</td>\n",
       "      <td>1141</td>\n",
       "      <td>JFK</td>\n",
       "      <td>MIA</td>\n",
       "      <td>0 days 03:41:00</td>\n",
       "      <td>0 days 00:33:00</td>\n",
       "    </tr>\n",
       "    <tr>\n",
       "      <th>1</th>\n",
       "      <td>1</td>\n",
       "      <td>2013-01-01 06:00:00</td>\n",
       "      <td>2013-01-01 05:54:00</td>\n",
       "      <td>2013-01-01 08:12:00</td>\n",
       "      <td>2013-01-01 08:37:00</td>\n",
       "      <td>461</td>\n",
       "      <td>LGA</td>\n",
       "      <td>ATL</td>\n",
       "      <td>0 days 02:18:00</td>\n",
       "      <td>-1 days +23:35:00</td>\n",
       "    </tr>\n",
       "    <tr>\n",
       "      <th>2</th>\n",
       "      <td>2</td>\n",
       "      <td>2013-01-01 05:58:00</td>\n",
       "      <td>2013-01-01 05:54:00</td>\n",
       "      <td>2013-01-01 07:40:00</td>\n",
       "      <td>2013-01-01 07:28:00</td>\n",
       "      <td>1696</td>\n",
       "      <td>EWR</td>\n",
       "      <td>ORD</td>\n",
       "      <td>0 days 01:46:00</td>\n",
       "      <td>0 days 00:12:00</td>\n",
       "    </tr>\n",
       "    <tr>\n",
       "      <th>3</th>\n",
       "      <td>3</td>\n",
       "      <td>2013-01-01 06:00:00</td>\n",
       "      <td>2013-01-01 05:55:00</td>\n",
       "      <td>2013-01-01 09:13:00</td>\n",
       "      <td>2013-01-01 08:54:00</td>\n",
       "      <td>507</td>\n",
       "      <td>EWR</td>\n",
       "      <td>FLL</td>\n",
       "      <td>0 days 03:18:00</td>\n",
       "      <td>0 days 00:19:00</td>\n",
       "    </tr>\n",
       "    <tr>\n",
       "      <th>4</th>\n",
       "      <td>4</td>\n",
       "      <td>2013-01-01 06:00:00</td>\n",
       "      <td>2013-01-01 05:57:00</td>\n",
       "      <td>2013-01-01 08:38:00</td>\n",
       "      <td>2013-01-01 08:46:00</td>\n",
       "      <td>79</td>\n",
       "      <td>JFK</td>\n",
       "      <td>MCO</td>\n",
       "      <td>0 days 02:41:00</td>\n",
       "      <td>-1 days +23:52:00</td>\n",
       "    </tr>\n",
       "    <tr>\n",
       "      <th>...</th>\n",
       "      <td>...</td>\n",
       "      <td>...</td>\n",
       "      <td>...</td>\n",
       "      <td>...</td>\n",
       "      <td>...</td>\n",
       "      <td>...</td>\n",
       "      <td>...</td>\n",
       "      <td>...</td>\n",
       "      <td>...</td>\n",
       "      <td>...</td>\n",
       "    </tr>\n",
       "    <tr>\n",
       "      <th>121422</th>\n",
       "      <td>123979</td>\n",
       "      <td>2013-09-30 21:37:00</td>\n",
       "      <td>2013-09-30 21:47:00</td>\n",
       "      <td>2013-10-01 00:30:00</td>\n",
       "      <td>2013-10-01 00:27:00</td>\n",
       "      <td>1371</td>\n",
       "      <td>LGA</td>\n",
       "      <td>FLL</td>\n",
       "      <td>0 days 02:43:00</td>\n",
       "      <td>0 days 00:03:00</td>\n",
       "    </tr>\n",
       "    <tr>\n",
       "      <th>121423</th>\n",
       "      <td>123980</td>\n",
       "      <td>2013-09-30 21:56:00</td>\n",
       "      <td>2013-09-30 21:49:00</td>\n",
       "      <td>2013-09-30 22:45:00</td>\n",
       "      <td>2013-09-30 23:08:00</td>\n",
       "      <td>523</td>\n",
       "      <td>EWR</td>\n",
       "      <td>BOS</td>\n",
       "      <td>0 days 00:56:00</td>\n",
       "      <td>-1 days +23:37:00</td>\n",
       "    </tr>\n",
       "    <tr>\n",
       "      <th>121424</th>\n",
       "      <td>123981</td>\n",
       "      <td>2013-09-30 21:13:00</td>\n",
       "      <td>2013-09-30 22:33:00</td>\n",
       "      <td>2013-10-01 01:12:00</td>\n",
       "      <td>2013-10-01 00:30:00</td>\n",
       "      <td>471</td>\n",
       "      <td>EWR</td>\n",
       "      <td>SFO</td>\n",
       "      <td>0 days 02:39:00</td>\n",
       "      <td>0 days 00:42:00</td>\n",
       "    </tr>\n",
       "    <tr>\n",
       "      <th>121425</th>\n",
       "      <td>123982</td>\n",
       "      <td>2013-09-30 20:01:00</td>\n",
       "      <td>2013-09-30 22:35:00</td>\n",
       "      <td>2013-10-01 00:59:00</td>\n",
       "      <td>2013-09-30 22:49:00</td>\n",
       "      <td>1083</td>\n",
       "      <td>JFK</td>\n",
       "      <td>MCO</td>\n",
       "      <td>0 days 02:24:00</td>\n",
       "      <td>0 days 02:10:00</td>\n",
       "    </tr>\n",
       "    <tr>\n",
       "      <th>121426</th>\n",
       "      <td>123983</td>\n",
       "      <td>2013-09-30 22:55:00</td>\n",
       "      <td>2013-09-30 23:07:00</td>\n",
       "      <td>2013-09-30 23:59:00</td>\n",
       "      <td>2013-09-30 23:58:00</td>\n",
       "      <td>718</td>\n",
       "      <td>JFK</td>\n",
       "      <td>BOS</td>\n",
       "      <td>0 days 00:52:00</td>\n",
       "      <td>0 days 00:01:00</td>\n",
       "    </tr>\n",
       "  </tbody>\n",
       "</table>\n",
       "<p>121427 rows × 10 columns</p>\n",
       "</div>"
      ],
      "text/plain": [
       "        Unnamed: 0        datetime_val            dep_time  \\\n",
       "0                0 2013-01-01 05:40:00 2013-01-01 05:42:00   \n",
       "1                1 2013-01-01 06:00:00 2013-01-01 05:54:00   \n",
       "2                2 2013-01-01 05:58:00 2013-01-01 05:54:00   \n",
       "3                3 2013-01-01 06:00:00 2013-01-01 05:55:00   \n",
       "4                4 2013-01-01 06:00:00 2013-01-01 05:57:00   \n",
       "...            ...                 ...                 ...   \n",
       "121422      123979 2013-09-30 21:37:00 2013-09-30 21:47:00   \n",
       "121423      123980 2013-09-30 21:56:00 2013-09-30 21:49:00   \n",
       "121424      123981 2013-09-30 21:13:00 2013-09-30 22:33:00   \n",
       "121425      123982 2013-09-30 20:01:00 2013-09-30 22:35:00   \n",
       "121426      123983 2013-09-30 22:55:00 2013-09-30 23:07:00   \n",
       "\n",
       "                  arr_time      sched_arr_time  flight origin dest  \\\n",
       "0      2013-01-01 09:23:00 2013-01-01 08:50:00    1141    JFK  MIA   \n",
       "1      2013-01-01 08:12:00 2013-01-01 08:37:00     461    LGA  ATL   \n",
       "2      2013-01-01 07:40:00 2013-01-01 07:28:00    1696    EWR  ORD   \n",
       "3      2013-01-01 09:13:00 2013-01-01 08:54:00     507    EWR  FLL   \n",
       "4      2013-01-01 08:38:00 2013-01-01 08:46:00      79    JFK  MCO   \n",
       "...                    ...                 ...     ...    ...  ...   \n",
       "121422 2013-10-01 00:30:00 2013-10-01 00:27:00    1371    LGA  FLL   \n",
       "121423 2013-09-30 22:45:00 2013-09-30 23:08:00     523    EWR  BOS   \n",
       "121424 2013-10-01 01:12:00 2013-10-01 00:30:00     471    EWR  SFO   \n",
       "121425 2013-10-01 00:59:00 2013-09-30 22:49:00    1083    JFK  MCO   \n",
       "121426 2013-09-30 23:59:00 2013-09-30 23:58:00     718    JFK  BOS   \n",
       "\n",
       "              air_time             delay  \n",
       "0      0 days 03:41:00   0 days 00:33:00  \n",
       "1      0 days 02:18:00 -1 days +23:35:00  \n",
       "2      0 days 01:46:00   0 days 00:12:00  \n",
       "3      0 days 03:18:00   0 days 00:19:00  \n",
       "4      0 days 02:41:00 -1 days +23:52:00  \n",
       "...                ...               ...  \n",
       "121422 0 days 02:43:00   0 days 00:03:00  \n",
       "121423 0 days 00:56:00 -1 days +23:37:00  \n",
       "121424 0 days 02:39:00   0 days 00:42:00  \n",
       "121425 0 days 02:24:00   0 days 02:10:00  \n",
       "121426 0 days 00:52:00   0 days 00:01:00  \n",
       "\n",
       "[121427 rows x 10 columns]"
      ]
     },
     "execution_count": 76,
     "metadata": {},
     "output_type": "execute_result"
    }
   ],
   "source": [
    "df"
   ]
  },
  {
   "cell_type": "markdown",
   "id": "81be6fad",
   "metadata": {},
   "source": [
    "Again, we loop through all the rows of the dataframe. This time we check if the days in air time is negative. If the time is negative, we start with 24 hours using timedelta and then subtract the amount of air time. Then the value is inserted back into airtime."
   ]
  },
  {
   "cell_type": "code",
   "execution_count": 77,
   "id": "cf074907",
   "metadata": {},
   "outputs": [],
   "source": [
    "#For every row in df\n",
    "for index, row in df.iterrows():\n",
    "    #if air_time is negative\n",
    "    if (row['air_time'].days < 0):\n",
    "        #Find the row with df.loc                      Take 24 hrs, - air_time + negative days (could be replaced with 1)\n",
    "        #df.loc[index, 'air_time'] = datetime.timedelta(hours=24)-(row['air_time'] + datetime.timedelta(abs(row['air_time'].days)))\n",
    "        df.loc[index, 'air_time'] = datetime.timedelta(hours=24)-(row['air_time'])"
   ]
  },
  {
   "cell_type": "markdown",
   "id": "301f02c8",
   "metadata": {},
   "source": [
    "Using the `to_csv` method we create a new csv file with the data from the dataframe called `ts2.csv`"
   ]
  },
  {
   "cell_type": "code",
   "execution_count": 78,
   "id": "2ed93320",
   "metadata": {},
   "outputs": [],
   "source": [
    "df.to_csv(\"t2s.csv\")"
   ]
  },
  {
   "cell_type": "markdown",
   "id": "4763e7ab",
   "metadata": {},
   "source": [
    "The code below simply defined two variables, `airt` and `dela` for air time and delay respectivly. These values are then printed out."
   ]
  },
  {
   "cell_type": "code",
   "execution_count": 79,
   "id": "9ce88351",
   "metadata": {},
   "outputs": [
    {
     "name": "stdout",
     "output_type": "stream",
     "text": [
      "0 days 02:18:00 -1 days +23:35:00\n"
     ]
    }
   ],
   "source": [
    "airt = df.loc[1, 'air_time']\n",
    "dela = df.loc[1, 'delay']\n",
    "print(airt, dela)"
   ]
  },
  {
   "cell_type": "markdown",
   "id": "16711277",
   "metadata": {},
   "source": [
    "Using 100 as a starting percentage, we times that by the delay and divid by airtime to calculate how much the flight was delayed by, in percent."
   ]
  },
  {
   "cell_type": "code",
   "execution_count": 80,
   "id": "bf4599de",
   "metadata": {},
   "outputs": [
    {
     "data": {
      "text/plain": [
       "-18.115942028985508"
      ]
     },
     "execution_count": 80,
     "metadata": {},
     "output_type": "execute_result"
    }
   ],
   "source": [
    "(100*dela)/airt"
   ]
  },
  {
   "cell_type": "markdown",
   "id": "5a9ecb50",
   "metadata": {},
   "source": [
    "The code below does the same, but this time for the entire dataframe so we can get the value for each of the flights."
   ]
  },
  {
   "cell_type": "code",
   "execution_count": 81,
   "id": "7de21825",
   "metadata": {},
   "outputs": [],
   "source": [
    "df[\"percent_delay\"] = (100 * df['delay'])/df['air_time']"
   ]
  },
  {
   "cell_type": "markdown",
   "id": "eb166d0f",
   "metadata": {},
   "source": [
    "Again, using the head method which will print out a neatly formatted table using rows and columns. The first column is unnamed as the name is not defined in the CSV file unlike the other columns."
   ]
  },
  {
   "cell_type": "code",
   "execution_count": 82,
   "id": "5206ec92",
   "metadata": {},
   "outputs": [
    {
     "data": {
      "text/html": [
       "<div>\n",
       "<style scoped>\n",
       "    .dataframe tbody tr th:only-of-type {\n",
       "        vertical-align: middle;\n",
       "    }\n",
       "\n",
       "    .dataframe tbody tr th {\n",
       "        vertical-align: top;\n",
       "    }\n",
       "\n",
       "    .dataframe thead th {\n",
       "        text-align: right;\n",
       "    }\n",
       "</style>\n",
       "<table border=\"1\" class=\"dataframe\">\n",
       "  <thead>\n",
       "    <tr style=\"text-align: right;\">\n",
       "      <th></th>\n",
       "      <th>Unnamed: 0</th>\n",
       "      <th>datetime_val</th>\n",
       "      <th>dep_time</th>\n",
       "      <th>arr_time</th>\n",
       "      <th>sched_arr_time</th>\n",
       "      <th>flight</th>\n",
       "      <th>origin</th>\n",
       "      <th>dest</th>\n",
       "      <th>air_time</th>\n",
       "      <th>delay</th>\n",
       "      <th>percent_delay</th>\n",
       "    </tr>\n",
       "  </thead>\n",
       "  <tbody>\n",
       "    <tr>\n",
       "      <th>0</th>\n",
       "      <td>0</td>\n",
       "      <td>2013-01-01 05:40:00</td>\n",
       "      <td>2013-01-01 05:42:00</td>\n",
       "      <td>2013-01-01 09:23:00</td>\n",
       "      <td>2013-01-01 08:50:00</td>\n",
       "      <td>1141</td>\n",
       "      <td>JFK</td>\n",
       "      <td>MIA</td>\n",
       "      <td>0 days 03:41:00</td>\n",
       "      <td>0 days 00:33:00</td>\n",
       "      <td>14.932127</td>\n",
       "    </tr>\n",
       "    <tr>\n",
       "      <th>1</th>\n",
       "      <td>1</td>\n",
       "      <td>2013-01-01 06:00:00</td>\n",
       "      <td>2013-01-01 05:54:00</td>\n",
       "      <td>2013-01-01 08:12:00</td>\n",
       "      <td>2013-01-01 08:37:00</td>\n",
       "      <td>461</td>\n",
       "      <td>LGA</td>\n",
       "      <td>ATL</td>\n",
       "      <td>0 days 02:18:00</td>\n",
       "      <td>-1 days +23:35:00</td>\n",
       "      <td>-18.115942</td>\n",
       "    </tr>\n",
       "    <tr>\n",
       "      <th>2</th>\n",
       "      <td>2</td>\n",
       "      <td>2013-01-01 05:58:00</td>\n",
       "      <td>2013-01-01 05:54:00</td>\n",
       "      <td>2013-01-01 07:40:00</td>\n",
       "      <td>2013-01-01 07:28:00</td>\n",
       "      <td>1696</td>\n",
       "      <td>EWR</td>\n",
       "      <td>ORD</td>\n",
       "      <td>0 days 01:46:00</td>\n",
       "      <td>0 days 00:12:00</td>\n",
       "      <td>11.320755</td>\n",
       "    </tr>\n",
       "    <tr>\n",
       "      <th>3</th>\n",
       "      <td>3</td>\n",
       "      <td>2013-01-01 06:00:00</td>\n",
       "      <td>2013-01-01 05:55:00</td>\n",
       "      <td>2013-01-01 09:13:00</td>\n",
       "      <td>2013-01-01 08:54:00</td>\n",
       "      <td>507</td>\n",
       "      <td>EWR</td>\n",
       "      <td>FLL</td>\n",
       "      <td>0 days 03:18:00</td>\n",
       "      <td>0 days 00:19:00</td>\n",
       "      <td>9.595960</td>\n",
       "    </tr>\n",
       "    <tr>\n",
       "      <th>4</th>\n",
       "      <td>4</td>\n",
       "      <td>2013-01-01 06:00:00</td>\n",
       "      <td>2013-01-01 05:57:00</td>\n",
       "      <td>2013-01-01 08:38:00</td>\n",
       "      <td>2013-01-01 08:46:00</td>\n",
       "      <td>79</td>\n",
       "      <td>JFK</td>\n",
       "      <td>MCO</td>\n",
       "      <td>0 days 02:41:00</td>\n",
       "      <td>-1 days +23:52:00</td>\n",
       "      <td>-4.968944</td>\n",
       "    </tr>\n",
       "  </tbody>\n",
       "</table>\n",
       "</div>"
      ],
      "text/plain": [
       "   Unnamed: 0        datetime_val            dep_time            arr_time  \\\n",
       "0           0 2013-01-01 05:40:00 2013-01-01 05:42:00 2013-01-01 09:23:00   \n",
       "1           1 2013-01-01 06:00:00 2013-01-01 05:54:00 2013-01-01 08:12:00   \n",
       "2           2 2013-01-01 05:58:00 2013-01-01 05:54:00 2013-01-01 07:40:00   \n",
       "3           3 2013-01-01 06:00:00 2013-01-01 05:55:00 2013-01-01 09:13:00   \n",
       "4           4 2013-01-01 06:00:00 2013-01-01 05:57:00 2013-01-01 08:38:00   \n",
       "\n",
       "       sched_arr_time  flight origin dest        air_time             delay  \\\n",
       "0 2013-01-01 08:50:00    1141    JFK  MIA 0 days 03:41:00   0 days 00:33:00   \n",
       "1 2013-01-01 08:37:00     461    LGA  ATL 0 days 02:18:00 -1 days +23:35:00   \n",
       "2 2013-01-01 07:28:00    1696    EWR  ORD 0 days 01:46:00   0 days 00:12:00   \n",
       "3 2013-01-01 08:54:00     507    EWR  FLL 0 days 03:18:00   0 days 00:19:00   \n",
       "4 2013-01-01 08:46:00      79    JFK  MCO 0 days 02:41:00 -1 days +23:52:00   \n",
       "\n",
       "   percent_delay  \n",
       "0      14.932127  \n",
       "1     -18.115942  \n",
       "2      11.320755  \n",
       "3       9.595960  \n",
       "4      -4.968944  "
      ]
     },
     "execution_count": 82,
     "metadata": {},
     "output_type": "execute_result"
    }
   ],
   "source": [
    "df.head()"
   ]
  },
  {
   "cell_type": "markdown",
   "id": "1aebf333",
   "metadata": {},
   "source": [
    "Below we list all values in the `percent_delay` column in the dataframe."
   ]
  },
  {
   "cell_type": "code",
   "execution_count": 83,
   "id": "e54b113c",
   "metadata": {},
   "outputs": [
    {
     "data": {
      "text/plain": [
       "0         14.932127\n",
       "1        -18.115942\n",
       "2         11.320755\n",
       "3          9.595960\n",
       "4         -4.968944\n",
       "            ...    \n",
       "121422     1.840491\n",
       "121423   -41.071429\n",
       "121424    26.415094\n",
       "121425    90.277778\n",
       "121426     1.923077\n",
       "Name: percent_delay, Length: 121427, dtype: float64"
      ]
     },
     "execution_count": 83,
     "metadata": {},
     "output_type": "execute_result"
    }
   ],
   "source": [
    "df[\"percent_delay\"]"
   ]
  },
  {
   "cell_type": "markdown",
   "id": "84e60fcc",
   "metadata": {},
   "source": [
    "The same as above but using the describe method to get additional statistics such as the mean delay, min and max. This can help seeing things like averages and can be useful for future analysis."
   ]
  },
  {
   "cell_type": "code",
   "execution_count": 84,
   "id": "e12138d6",
   "metadata": {},
   "outputs": [
    {
     "data": {
      "text/plain": [
       "count    121373.000000\n",
       "mean        -29.735566\n",
       "std         206.591444\n",
       "min       -2919.565217\n",
       "25%         -14.838710\n",
       "50%          -4.864865\n",
       "75%           6.172840\n",
       "max         100.000000\n",
       "Name: percent_delay, dtype: float64"
      ]
     },
     "execution_count": 84,
     "metadata": {},
     "output_type": "execute_result"
    }
   ],
   "source": [
    "df[\"percent_delay\"].describe()"
   ]
  },
  {
   "cell_type": "code",
   "execution_count": 85,
   "id": "3bc3378b",
   "metadata": {},
   "outputs": [
    {
     "data": {
      "text/plain": [
       "<Axes: >"
      ]
     },
     "execution_count": 85,
     "metadata": {},
     "output_type": "execute_result"
    },
    {
     "data": {
      "image/png": "[encoded data removed]",
      "text/plain": [
       "<Figure size 640x480 with 1 Axes>"
      ]
     },
     "metadata": {},
     "output_type": "display_data"
    }
   ],
   "source": [
    "df[\"percent_delay\"].plot.box()"
   ]
  },
  {
   "cell_type": "markdown",
   "id": "c2849672",
   "metadata": {},
   "source": [
    "We create a new dataframe from what is returned from the argmin() function. The argmin function returns the row where the minimum value is located for our percent_delay column."
   ]
  },
  {
   "cell_type": "code",
   "execution_count": 86,
   "id": "9a35eb60",
   "metadata": {},
   "outputs": [],
   "source": [
    "minrow= df['percent_delay'].argmin()"
   ]
  },
  {
   "cell_type": "markdown",
   "id": "a79265f5",
   "metadata": {},
   "source": [
    "We then print the minrow."
   ]
  },
  {
   "cell_type": "code",
   "execution_count": 87,
   "id": "a1b63ae8",
   "metadata": {},
   "outputs": [
    {
     "data": {
      "text/plain": [
       "Unnamed: 0                      60788\n",
       "datetime_val      2013-04-01 20:40:00\n",
       "dep_time          2013-04-01 22:45:00\n",
       "arr_time          2013-04-01 23:31:00\n",
       "sched_arr_time    2013-04-02 21:54:00\n",
       "flight                           1178\n",
       "origin                            EWR\n",
       "dest                              BOS\n",
       "air_time              0 days 00:46:00\n",
       "delay               -1 days +01:37:00\n",
       "percent_delay            -2919.565217\n",
       "Name: 59583, dtype: object"
      ]
     },
     "execution_count": 87,
     "metadata": {},
     "output_type": "execute_result"
    }
   ],
   "source": [
    "df.iloc[minrow]"
   ]
  },
  {
   "cell_type": "markdown",
   "id": "d02d83ab",
   "metadata": {},
   "source": [
    "We import the is_numeric_dtype from pandas. Then we define a function that determiner what the lower and upper percentiles are as a bounds for identifying outliers. quant_df calculaties quantiles based on our bounds. We then filter to only keep the rows that are within our bound and then return the modified dataframe."
   ]
  },
  {
   "cell_type": "code",
   "execution_count": 88,
   "id": "f56d228e",
   "metadata": {},
   "outputs": [],
   "source": [
    "from pandas.api.types import is_numeric_dtype\n",
    "def remove_outlier(df):\n",
    "    low = .05\n",
    "    high = .95\n",
    "    quant_df = df.quantile([low, high])\n",
    "    if is_numeric_dtype(df):\n",
    "        df = df[(df > quant_df.loc[low]) & (df < quant_df.loc[high])]\n",
    "    return df\n"
   ]
  },
  {
   "cell_type": "markdown",
   "id": "43f8acd9",
   "metadata": {},
   "source": [
    "We run the remove outliers on our percent_delay column."
   ]
  },
  {
   "cell_type": "code",
   "execution_count": 89,
   "id": "853b5572",
   "metadata": {},
   "outputs": [],
   "source": [
    "df[\"percent_delay\"] = remove_outlier(df[\"percent_delay\"])"
   ]
  },
  {
   "cell_type": "markdown",
   "id": "c304aa12",
   "metadata": {},
   "source": [
    "We extract the column \"percent_delay\" and use describe to display various summary statistics for the column. What we get is, all the values that are not null, the average value, how much the spread is (standard deviation), the minimum value, the max value, and all the percentile values."
   ]
  },
  {
   "cell_type": "code",
   "execution_count": 90,
   "id": "fce1ea9a",
   "metadata": {},
   "outputs": [
    {
     "data": {
      "text/plain": [
       "count    109235.000000\n",
       "mean         -3.763476\n",
       "std          15.290651\n",
       "min         -39.333333\n",
       "25%         -13.636364\n",
       "50%          -4.864865\n",
       "75%           4.694836\n",
       "max          42.424242\n",
       "Name: percent_delay, dtype: float64"
      ]
     },
     "execution_count": 90,
     "metadata": {},
     "output_type": "execute_result"
    }
   ],
   "source": [
    "df[\"percent_delay\"].describe()"
   ]
  },
  {
   "cell_type": "markdown",
   "id": "7652bec7",
   "metadata": {},
   "source": [
    "We create a line chart which is useful to show pattern and trends over time. "
   ]
  },
  {
   "cell_type": "code",
   "execution_count": 91,
   "id": "14962418",
   "metadata": {},
   "outputs": [
    {
     "data": {
      "text/plain": [
       "<Axes: >"
      ]
     },
     "execution_count": 91,
     "metadata": {},
     "output_type": "execute_result"
    },
    {
     "data": {
      "image/png": "[encoded data removed]",
      "text/plain": [
       "<Figure size 640x480 with 1 Axes>"
      ]
     },
     "metadata": {},
     "output_type": "display_data"
    }
   ],
   "source": [
    "df[\"percent_delay\"].plot.line()"
   ]
  },
  {
   "cell_type": "markdown",
   "id": "71b918e2",
   "metadata": {},
   "source": [
    "We create a plot box or box and whisker plot, showing spread, central tendency and potential outliers. "
   ]
  },
  {
   "cell_type": "code",
   "execution_count": 92,
   "id": "b42683c2",
   "metadata": {},
   "outputs": [
    {
     "data": {
      "text/plain": [
       "<Axes: >"
      ]
     },
     "execution_count": 92,
     "metadata": {},
     "output_type": "execute_result"
    },
    {
     "data": {
      "image/png": "[encoded data removed]",
      "text/plain": [
       "<Figure size 640x480 with 1 Axes>"
      ]
     },
     "metadata": {},
     "output_type": "display_data"
    }
   ],
   "source": [
    "df[\"percent_delay\"].plot.box()"
   ]
  },
  {
   "cell_type": "markdown",
   "id": "890bc700",
   "metadata": {},
   "source": [
    "We extract the column \"percent_delay\" and use describe to display various summary statistics for the column. What we get is, all the values that are not null, the average value, how much the spread is (standard deviation), the minimum value, the max value, and all the percentile values."
   ]
  },
  {
   "cell_type": "code",
   "execution_count": 93,
   "id": "60b6bd17",
   "metadata": {},
   "outputs": [
    {
     "data": {
      "text/plain": [
       "count    109235.000000\n",
       "mean         -3.763476\n",
       "std          15.290651\n",
       "min         -39.333333\n",
       "25%         -13.636364\n",
       "50%          -4.864865\n",
       "75%           4.694836\n",
       "max          42.424242\n",
       "Name: percent_delay, dtype: float64"
      ]
     },
     "execution_count": 93,
     "metadata": {},
     "output_type": "execute_result"
    }
   ],
   "source": [
    "df[\"percent_delay\"].describe()"
   ]
  }
 ],
 "metadata": {
  "kernelspec": {
   "display_name": "Python 3 (ipykernel)",
   "language": "python",
   "name": "python3"
  },
  "language_info": {
   "codemirror_mode": {
    "name": "ipython",
    "version": 3
   },
   "file_extension": ".py",
   "mimetype": "text/x-python",
   "name": "python",
   "nbconvert_exporter": "python",
   "pygments_lexer": "ipython3",
   "version": "3.8.17"
  }
 },
 "nbformat": 4,
 "nbformat_minor": 5
}
