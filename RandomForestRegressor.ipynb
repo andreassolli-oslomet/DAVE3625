{
 "cells": [
  {
   "cell_type": "code",
   "execution_count": null,
   "id": "f869c6b9",
   "metadata": {},
   "outputs": [],
   "source": [
    "import pandas as pd\n",
    "import matplotlib.pyplot as plt\n",
    "from sklearn.ensemble import RandomForestRegressor\n",
    "from sklearn.model_selection import train_test_split"
   ]
  },
  {
   "cell_type": "code",
   "execution_count": null,
   "id": "440fd66c",
   "metadata": {},
   "outputs": [],
   "source": [
    "# Load and preprocess the dataset\n",
    "ruter_data = pd.read_csv(\"https://raw.githubusercontent.com/atikagondal/Assignment-2-dave3625-202323/main/Ruter-data.csv\", delimiter=';')\n",
    "ruter_data['Dato'] = pd.to_datetime(ruter_data['Dato'], format='%d/%m/%Y')\n",
    "ruter_data['DayOfWeek'] = ruter_data['Dato'].dt.dayofweek\n",
    "ruter_data['Month'] = ruter_data['Dato'].dt.month\n",
    "ruter_data['TimeOfDay'] = pd.to_datetime(ruter_data['Tidspunkt_Faktisk_Avgang_Holdeplass_Fra'], format='%H:%M:%S', errors='coerce').dt.hour\n",
    "ruter_data['TimeOfDay'] = ruter_data['TimeOfDay'].fillna(ruter_data['TimeOfDay'].mean())"
   ]
  },
  {
   "cell_type": "code",
   "execution_count": null,
   "id": "fad27674",
   "metadata": {},
   "outputs": [],
   "source": [
    "# Select a specific bus line\n",
    "specific_bus = '390'  # Focusing on bus line 21 for this example\n",
    "ruter_data_specific = ruter_data[ruter_data['Linjenavn'] == specific_bus]"
   ]
  },
  {
   "cell_type": "code",
   "execution_count": null,
   "id": "e10647c4",
   "metadata": {},
   "outputs": [],
   "source": [
    "# Selecting features and target\n",
    "X = ruter_data_specific[['DayOfWeek', 'Month', 'Kjøretøy_Kapasitet', 'TimeOfDay']]\n",
    "y = ruter_data_specific['Passasjerer_Ombord']"
   ]
  },
  {
   "cell_type": "code",
   "execution_count": null,
   "id": "b501d5c0",
   "metadata": {},
   "outputs": [],
   "source": [
    "# Split the data\n",
    "X_train, X_test, y_train, y_test = train_test_split(X, y, test_size=0.3, random_state=42)"
   ]
  },
  {
   "cell_type": "code",
   "execution_count": null,
   "id": "4a900855",
   "metadata": {},
   "outputs": [],
   "source": [
    "# Train the model on the dataset\n",
    "model = RandomForestRegressor()\n",
    "model.fit(X_train, y_train)\n",
    "y_pred = model.predict(X_test)"
   ]
  },
  {
   "cell_type": "code",
   "execution_count": null,
   "id": "1d3d9bdd",
   "metadata": {},
   "outputs": [],
   "source": [
    "# Prediction function with post-processing to handle negative predictions\n",
    "def predict_passengers(date_str, time_str, model):\n",
    "    date = pd.to_datetime(date_str, format='%Y-%m-%d')\n",
    "    time = pd.to_datetime(time_str, format='%H:%M')\n",
    "    day_of_week = date.dayofweek\n",
    "    month = date.month\n",
    "    hour = time.hour\n",
    "    avg_bus_capacity = X['Kjøretøy_Kapasitet'].mean()  # Using the average bus capacity\n",
    "    features = pd.DataFrame({\n",
    "        'DayOfWeek': [day_of_week],\n",
    "        'Month': [month],\n",
    "        'Kjøretøy_Kapasitet': [avg_bus_capacity],\n",
    "        'TimeOfDay': [hour]\n",
    "    })\n",
    "    prediction = model.predict(features)\n",
    "    return max(0, prediction[0])  # Ensuring the prediction is not negative"
   ]
  },
  {
   "cell_type": "code",
   "execution_count": null,
   "id": "64a3823c",
   "metadata": {},
   "outputs": [],
   "source": [
    "# Example usage\n",
    "predicted_passengers = predict_passengers(\"2023-11-01\", \"07:00\", model)\n",
    "print(f\"Predicted number of passengers: {predicted_passengers}\")\n",
    "\n",
    "\n",
    "plt.figure(figsize=(10, 6))\n",
    "plt.scatter(y_test, y_pred, alpha=0.5)\n",
    "plt.xlabel('Actual Passenger Count')\n",
    "plt.ylabel('Predicted Passenger Count')\n",
    "plt.title('Actual vs. Predicted Passenger Count')\n",
    "plt.plot([y_test.min(), y_test.max()], [y_test.min(), y_test.max()], 'k--')  # Diagonal line\n",
    "plt.show()"
   ]
  }
 ],
 "metadata": {
  "kernelspec": {
   "display_name": "Python 3 (ipykernel)",
   "language": "python",
   "name": "python3"
  },
  "language_info": {
   "codemirror_mode": {
    "name": "ipython",
    "version": 3
   },
   "file_extension": ".py",
   "mimetype": "text/x-python",
   "name": "python",
   "nbconvert_exporter": "python",
   "pygments_lexer": "ipython3",
   "version": "3.8.18"
  }
 },
 "nbformat": 4,
 "nbformat_minor": 5
}
