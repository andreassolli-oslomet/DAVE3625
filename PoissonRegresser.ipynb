{
 "cells": [
  {
   "cell_type": "code",
   "execution_count": null,
   "id": "999b926f",
   "metadata": {},
   "outputs": [],
   "source": [
    "import pandas as pd\n",
    "import numpy as np\n",
    "import matplotlib.pyplot as plt\n",
    "from sklearn.linear_model import PoissonRegressor\n",
    "from sklearn.preprocessing import StandardScaler\n",
    "from sklearn.metrics import r2_score, mean_squared_error"
   ]
  },
  {
   "cell_type": "code",
   "execution_count": null,
   "id": "aa64b8ae",
   "metadata": {},
   "outputs": [],
   "source": [
    "# Load and preprocess the dataset\n",
    "ruter_data = pd.read_csv(\"https://raw.githubusercontent.com/atikagondal/Assignment-2-dave3625-202323/main/Ruter-data.csv\", delimiter=';')\n",
    "ruter_data['Dato'] = pd.to_datetime(ruter_data['Dato'], format='%d/%m/%Y')\n",
    "ruter_data['DayOfWeek'] = ruter_data['Dato'].dt.dayofweek\n",
    "ruter_data['Month'] = ruter_data['Dato'].dt.month\n",
    "ruter_data['Year'] = ruter_data['Dato'].dt.year\n",
    "ruter_data['Day'] = ruter_data['Dato'].dt.day\n",
    "ruter_data['Avgang_Hour'] = pd.to_datetime(ruter_data['Tidspunkt_Faktisk_Avgang_Holdeplass_Fra'], format='%H:%M:%S', errors='coerce').dt.hour\n",
    "ruter_data.dropna(subset=['Avgang_Hour'], inplace=True)"
   ]
  },
  {
   "cell_type": "code",
   "execution_count": null,
   "id": "6044fe94",
   "metadata": {},
   "outputs": [],
   "source": [
    "# Select a specific bus line\n",
    "specific_bus = '380'  # Replace with your chosen bus line\n",
    "ruter_data_specific = ruter_data[ruter_data['Linjenavn'] == specific_bus]"
   ]
  },
  {
   "cell_type": "code",
   "execution_count": null,
   "id": "31da257f",
   "metadata": {},
   "outputs": [],
   "source": [
    "# Selecting features and target\n",
    "X = ruter_data_specific[['DayOfWeek', 'Month', 'Year', 'Day', 'Avgang_Hour']]\n",
    "y = ruter_data_specific['Passasjerer_Ombord']"
   ]
  },
  {
   "cell_type": "code",
   "execution_count": null,
   "id": "5ec918eb",
   "metadata": {},
   "outputs": [],
   "source": [
    "# Scale the features\n",
    "scaler = StandardScaler()\n",
    "X_scaled = scaler.fit_transform(X)\n",
    "y = y.clip(lower=0)"
   ]
  },
  {
   "cell_type": "code",
   "execution_count": null,
   "id": "e1ba1310",
   "metadata": {},
   "outputs": [],
   "source": [
    "# Train the model on the entire dataset\n",
    "model_poisson = PoissonRegressor()\n",
    "model_poisson.fit(X, y)\n",
    "y_pred = model_poisson.predict(X)"
   ]
  },
  {
   "cell_type": "code",
   "execution_count": null,
   "id": "9572b149",
   "metadata": {},
   "outputs": [],
   "source": [
    "# Calculate R² and MSE\n",
    "r2 = r2_score(y, y_pred)\n",
    "mse = mean_squared_error(y, y_pred)"
   ]
  },
  {
   "cell_type": "code",
   "execution_count": null,
   "id": "9a2f86d0",
   "metadata": {},
   "outputs": [],
   "source": [
    "# Plotting actual vs. predicted passenger counts\n",
    "plt.figure(figsize=(10, 6))\n",
    "plt.scatter(y, y_pred, alpha=0.5)\n",
    "plt.xlabel('Actual Passenger Count')\n",
    "plt.ylabel('Predicted Passenger Count')\n",
    "plt.title(f'Actual vs. Predicted Passenger Count for Bus Line 390\\nR² Score: {r2:.2f}, MSE: {mse:.2f}')\n",
    "plt.plot([y.min(), y.max()], [y.min(), y.max()], 'k--')  # Diagonal line\n",
    "plt.show()"
   ]
  },
  {
   "cell_type": "code",
   "execution_count": null,
   "id": "63ad96d3",
   "metadata": {},
   "outputs": [],
   "source": [
    "# Prediction function\n",
    "def predict_passengers(date_str, time_hour, model):\n",
    "    date = pd.to_datetime(date_str, format='%Y-%m-%d')\n",
    "    features = pd.DataFrame({\n",
    "        'DayOfWeek': [date.dayofweek],\n",
    "        'Month': [date.month],\n",
    "        'Year': [date.year],\n",
    "        'Day': [date.day],\n",
    "        'Avgang_Hour': [time_hour]\n",
    "    })\n",
    "    prediction = model.predict(features)\n",
    "    return prediction[0]"
   ]
  },
  {
   "cell_type": "code",
   "execution_count": null,
   "id": "7a9c49d6",
   "metadata": {},
   "outputs": [],
   "source": [
    "def predict_passengers_with_confidence(date_str, time_hour, model, std_residuals):\n",
    "    prediction = predict_passengers(date_str, time_hour, model)\n",
    "    lower_bound = max(prediction - std_residuals, 0)  # Ensure non-negative\n",
    "    upper_bound = prediction + std_residuals\n",
    "    return prediction, lower_bound, upper_bound"
   ]
  },
  {
   "cell_type": "code",
   "execution_count": null,
   "id": "733e2968",
   "metadata": {},
   "outputs": [],
   "source": [
    "y_train_pred = model_poisson.predict(X)\n",
    "residuals = y - y_train_pred\n",
    "\n",
    "\n",
    "std_residuals = np.std(residuals)"
   ]
  },
  {
   "cell_type": "code",
   "execution_count": null,
   "id": "927e8ce2",
   "metadata": {},
   "outputs": [],
   "source": [
    "# Example: Predict passengers for a specific date and time\n",
    "predicted_passengers, lower_bound, upper_bound = predict_passengers_with_confidence('2023-11-01', 7, model_poisson, std_residuals)  # 14 represents 2 PM\n",
    "print(f\"Predicted number of passengers: {predicted_passengers}\")\n",
    "print(f\"Confidence Interval: {lower_bound} to {upper_bound}\")\n",
    "print(f\"R-squared (R²) score: {r2}\")\n",
    "print(f\"Mean Squared Error (MSE): {mse}\")"
   ]
  }
 ],
 "metadata": {
  "kernelspec": {
   "display_name": "Python 3 (ipykernel)",
   "language": "python",
   "name": "python3"
  },
  "language_info": {
   "codemirror_mode": {
    "name": "ipython",
    "version": 3
   },
   "file_extension": ".py",
   "mimetype": "text/x-python",
   "name": "python",
   "nbconvert_exporter": "python",
   "pygments_lexer": "ipython3",
   "version": "3.8.18"
  }
 },
 "nbformat": 4,
 "nbformat_minor": 5
}
